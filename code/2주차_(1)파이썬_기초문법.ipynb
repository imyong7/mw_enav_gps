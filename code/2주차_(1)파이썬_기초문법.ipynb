{
 "cells": [
  {
   "cell_type": "markdown",
   "id": "bc7841be",
   "metadata": {},
   "source": [
    "\n",
    "# Python Basics for Beginners (Colab)\n",
    "\n",
    "이 노트북은 파이썬 기초 문법을 익히기 위한 예제들을 포함합니다.\n",
    "\n",
    "**학습 내용:**\n",
    "1. 변수와 출력\n",
    "2. 자료형 (숫자, 문자열, 리스트, 딕셔너리)\n",
    "3. 조건문 & 반복문\n",
    "4. 함수 정의\n",
    "5. 간단한 그래프 그리기 (matplotlib)\n"
   ]
  },
  {
   "cell_type": "markdown",
   "id": "f8518817",
   "metadata": {},
   "source": [
    "## 1. 변수와 출력"
   ]
  },
  {
   "cell_type": "code",
   "execution_count": null,
   "id": "c47b4f98",
   "metadata": {},
   "outputs": [],
   "source": [
    "\n",
    "# 변수 선언\n",
    "a = 10\n",
    "b = 3.5\n",
    "name = \"전자항법\"\n",
    "\n",
    "# 출력\n",
    "print(\"a =\", a)\n",
    "print(\"b =\", b)\n",
    "print(\"과목 이름:\", name)\n"
   ]
  },
  {
   "cell_type": "markdown",
   "id": "6dbedcf2",
   "metadata": {},
   "source": [
    "## 2. 자료형 (숫자, 문자열, 리스트, 딕셔너리)"
   ]
  },
  {
   "cell_type": "code",
   "execution_count": null,
   "id": "f59c5d0a",
   "metadata": {},
   "outputs": [],
   "source": [
    "\n",
    "# 숫자 연산\n",
    "x = 7\n",
    "y = 2\n",
    "print(\"덧셈:\", x + y)\n",
    "print(\"나눗셈:\", x / y)\n",
    "\n",
    "# 문자열\n",
    "text = \"Hello GPS\"\n",
    "print(text.upper())\n",
    "print(text.lower())\n",
    "\n",
    "# 리스트\n",
    "fruits = [\"사과\", \"바나나\", \"체리\"]\n",
    "print(\"첫 번째 과일:\", fruits[0])\n",
    "fruits.append(\"포도\")\n",
    "print(\"리스트 전체:\", fruits)\n",
    "\n",
    "# 딕셔너리\n",
    "student = {\"name\": \"홍길동\", \"age\": 21, \"major\": \"전자공학\"}\n",
    "print(\"학생 이름:\", student[\"name\"])\n",
    "print(\"학생 전공:\", student[\"major\"])\n"
   ]
  },
  {
   "cell_type": "markdown",
   "id": "bc68035a",
   "metadata": {},
   "source": [
    "## 3. 조건문 & 반복문"
   ]
  },
  {
   "cell_type": "code",
   "execution_count": null,
   "id": "a1894d6d",
   "metadata": {},
   "outputs": [],
   "source": [
    "\n",
    "# 조건문\n",
    "score = 85\n",
    "if score >= 90:\n",
    "    print(\"A 학점\")\n",
    "elif score >= 80:\n",
    "    print(\"B 학점\")\n",
    "else:\n",
    "    print(\"C 학점\")\n",
    "\n",
    "# for 반복문\n",
    "for i in range(5):\n",
    "    print(\"for 반복:\", i)\n",
    "\n",
    "# while 반복문\n",
    "n = 0\n",
    "while n < 3:\n",
    "    print(\"while 반복:\", n)\n",
    "    n += 1\n"
   ]
  },
  {
   "cell_type": "markdown",
   "id": "5417a0e8",
   "metadata": {},
   "source": [
    "## 4. 함수 정의"
   ]
  },
  {
   "cell_type": "code",
   "execution_count": null,
   "id": "afb4f69d",
   "metadata": {},
   "outputs": [],
   "source": [
    "\n",
    "def add_numbers(a, b):\n",
    "    return a + b\n",
    "\n",
    "result = add_numbers(5, 7)\n",
    "print(\"5 + 7 =\", result)\n"
   ]
  },
  {
   "cell_type": "markdown",
   "id": "d21bf5f7",
   "metadata": {},
   "source": [
    "## 5. 간단한 그래프 그리기 (matplotlib)"
   ]
  },
  {
   "cell_type": "code",
   "execution_count": null,
   "id": "983fa9b2",
   "metadata": {},
   "outputs": [],
   "source": [
    "\n",
    "import matplotlib.pyplot as plt\n",
    "import numpy as np\n",
    "\n",
    "# x 값 생성 (0 ~ 2π 구간에서 100개의 점)\n",
    "x = np.linspace(0, 2*np.pi, 100)\n",
    "\n",
    "# sin, cos\n",
    "y1 = np.sin(x)\n",
    "y2 = np.cos(x)\n",
    "\n",
    "plt.plot(x, y1, label=\"sin\")\n",
    "plt.plot(x, y2, label=\"cos\")\n",
    "plt.legend()\n",
    "plt.title(\"Sine and Cosine Graph\")\n",
    "plt.xlabel(\"x\")\n",
    "plt.ylabel(\"y\")\n",
    "plt.grid(True)\n",
    "plt.show()\n"
   ]
  }
 ],
 "metadata": {},
 "nbformat": 4,
 "nbformat_minor": 5
}
