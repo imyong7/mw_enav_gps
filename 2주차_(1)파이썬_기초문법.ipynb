{
  "cells": [
    {
      "cell_type": "markdown",
      "id": "bc7841be",
      "metadata": {
        "id": "bc7841be"
      },
      "source": [
        "\n",
        "# Python Basics for Beginners (Colab)\n",
        "\n",
        "이 노트북은 파이썬 기초 문법을 익히기 위한 예제들을 포함합니다.\n",
        "\n",
        "**학습 내용:**\n",
        "1. 변수와 출력\n",
        "2. 자료형 (숫자, 문자열, 리스트, 딕셔너리)\n",
        "3. 조건문 & 반복문\n",
        "4. 함수 정의\n",
        "5. 간단한 그래프 그리기 (matplotlib)\n"
      ]
    },
    {
      "cell_type": "markdown",
      "id": "f8518817",
      "metadata": {
        "id": "f8518817"
      },
      "source": [
        "## 1. 변수와 출력"
      ]
    },
    {
      "cell_type": "code",
      "execution_count": null,
      "id": "c47b4f98",
      "metadata": {
        "id": "c47b4f98"
      },
      "outputs": [],
      "source": [
        "\n",
        "# 변수 선언\n",
        "\n",
        "\n",
        "# 출력\n",
        "\n"
      ]
    },
    {
      "cell_type": "markdown",
      "id": "6dbedcf2",
      "metadata": {
        "id": "6dbedcf2"
      },
      "source": [
        "## 2. 자료형 (숫자, 문자열, 리스트, 딕셔너리)"
      ]
    },
    {
      "cell_type": "code",
      "execution_count": null,
      "id": "f59c5d0a",
      "metadata": {
        "id": "f59c5d0a"
      },
      "outputs": [],
      "source": [
        "\n",
        "# 숫자 연산\n",
        "\n",
        "\n",
        "# 문자열\n",
        "\n",
        "\n",
        "# 리스트\n",
        "\n",
        "\n",
        "# 딕셔너리\n",
        "\n"
      ]
    },
    {
      "cell_type": "markdown",
      "id": "bc68035a",
      "metadata": {
        "id": "bc68035a"
      },
      "source": [
        "## 3. 조건문 & 반복문"
      ]
    },
    {
      "cell_type": "code",
      "execution_count": null,
      "id": "a1894d6d",
      "metadata": {
        "id": "a1894d6d"
      },
      "outputs": [],
      "source": [
        "\n",
        "# 조건문\n",
        "\n",
        "\n",
        "# for 반복문\n",
        "\n",
        "\n",
        "# while 반복문\n",
        "\n"
      ]
    },
    {
      "cell_type": "markdown",
      "id": "5417a0e8",
      "metadata": {
        "id": "5417a0e8"
      },
      "source": [
        "## 4. 함수 정의"
      ]
    },
    {
      "cell_type": "code",
      "execution_count": null,
      "id": "afb4f69d",
      "metadata": {
        "id": "afb4f69d"
      },
      "outputs": [],
      "source": [
        "\n",
        "\n"
      ]
    },
    {
      "cell_type": "markdown",
      "id": "d21bf5f7",
      "metadata": {
        "id": "d21bf5f7"
      },
      "source": [
        "## 5. 간단한 그래프 그리기 (matplotlib)"
      ]
    },
    {
      "cell_type": "code",
      "execution_count": null,
      "id": "983fa9b2",
      "metadata": {
        "id": "983fa9b2"
      },
      "outputs": [],
      "source": [
        "\n"
      ]
    }
  ],
  "metadata": {
    "colab": {
      "provenance": []
    }
  },
  "nbformat": 4,
  "nbformat_minor": 5
}